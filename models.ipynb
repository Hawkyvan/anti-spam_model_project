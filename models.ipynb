{
 "cells": [
  {
   "cell_type": "code",
   "execution_count": 4,
   "metadata": {},
   "outputs": [],
   "source": [
    "import pandas as pd\n",
    "from sklearn.model_selection import train_test_split\n",
    "from sklearn.feature_extraction.text import TfidfVectorizer\n",
    "from sklearn.neural_network import MLPClassifier\n",
    "from sklearn.linear_model import LogisticRegression\n",
    "from sklearn.svm import SVC\n",
    "from sklearn.naive_bayes import BernoulliNB\n",
    "from sklearn.metrics import classification_report\n",
    "from sklearn.model_selection import GridSearchCV"
   ]
  },
  {
   "cell_type": "markdown",
   "metadata": {},
   "source": [
    "1. Считывание данных и удаление пустых значений"
   ]
  },
  {
   "cell_type": "code",
   "execution_count": 5,
   "metadata": {},
   "outputs": [],
   "source": [
    "df = pd.read_csv('data/eml_dataset.csv', sep=';')\n",
    "df = df.dropna(subset=['Text', 'Mark'])"
   ]
  },
  {
   "cell_type": "markdown",
   "metadata": {},
   "source": [
    "2. Векторизация данных"
   ]
  },
  {
   "cell_type": "code",
   "execution_count": 6,
   "metadata": {},
   "outputs": [],
   "source": [
    "vectorizer = TfidfVectorizer(max_features=10000)\n",
    "X = vectorizer.fit_transform(df['Text'])\n",
    "y = df['Mark'].map({'spam': 1, 'not spam': 0})"
   ]
  },
  {
   "cell_type": "markdown",
   "metadata": {},
   "source": [
    "3. Распределение данных на обучающую и тестовую выборку"
   ]
  },
  {
   "cell_type": "code",
   "execution_count": 7,
   "metadata": {},
   "outputs": [],
   "source": [
    "X_train, X_test, y_train, y_test = train_test_split(X, y, test_size=0.25, random_state=23)"
   ]
  },
  {
   "cell_type": "code",
   "execution_count": 8,
   "metadata": {},
   "outputs": [],
   "source": [
    "X2_train, X2_test, y2_train, y2_test = train_test_split(X, y, test_size=0.20, random_state=23)"
   ]
  },
  {
   "cell_type": "markdown",
   "metadata": {},
   "source": [
    "3. Функция для обучения моделей"
   ]
  },
  {
   "cell_type": "code",
   "execution_count": 9,
   "metadata": {},
   "outputs": [],
   "source": [
    "def train_and_evaluate(model, model_name):\n",
    "    model.fit(X_train, y_train)\n",
    "    y_pred = model.predict(X_test)\n",
    "    print(f\"{model_name} performance:\\n{classification_report(y_test, y_pred)}\\n\")"
   ]
  },
  {
   "cell_type": "code",
   "execution_count": 10,
   "metadata": {},
   "outputs": [],
   "source": [
    "def train_and_evaluate2(model, model_name):\n",
    "    model.fit(X2_train, y2_train)\n",
    "    y_pred = model.predict(X2_test)\n",
    "    print(f\"{model_name} performance:\\n{classification_report(y2_test, y_pred)}\\n\")"
   ]
  },
  {
   "cell_type": "markdown",
   "metadata": {},
   "source": [
    "4. Настройка гиперпараметров"
   ]
  },
  {
   "cell_type": "code",
   "execution_count": 11,
   "metadata": {},
   "outputs": [],
   "source": [
    "MLP_grid = {'hidden_layer_sizes': [(50, 50), (50, 100)],\n",
    "            'solver': ['adam', 'lbfgs'],\n",
    "            'alpha': [0.001, 0.0001],\n",
    "            'learning_rate': ['constant', 'adaptive']\n",
    "            }"
   ]
  },
  {
   "cell_type": "code",
   "execution_count": null,
   "metadata": {},
   "outputs": [],
   "source": [
    "LR_grid = {'solver': ['sag', 'saga', 'lbfgs'],\n",
    "           'penalty': ['l2', None],\n",
    "           'warm_start': [True, False]\n",
    "           }"
   ]
  },
  {
   "cell_type": "code",
   "execution_count": null,
   "metadata": {},
   "outputs": [],
   "source": [
    "SVC_grid = {'C': [0.001, 0.1, 1, 10, 100, 1000],\n",
    "            'gamma': [1, 0.1, 0.01, 0.001, 0.0001],\n",
    "            'kernel': ['rbf', 'linear', 'poly'],\n",
    "            'decision_function_shape': ['ovo', 'ovr']\n",
    "            }"
   ]
  },
  {
   "cell_type": "code",
   "execution_count": 19,
   "metadata": {},
   "outputs": [],
   "source": [
    "NB_grid = {'alpha': [0.5, 1, 2, 3, 5, 10],\n",
    "           'force_alpha': [True, False],\n",
    "           'fit_prior': [True, False],\n",
    "           'binarize': [1, 0.1, 0.01, 0.001, 0.0001],\n",
    "           } "
   ]
  },
  {
   "cell_type": "markdown",
   "metadata": {},
   "source": [
    "5. Анализ обучения моделей с выборкой 75%/25% без настройки гиперпараметров"
   ]
  },
  {
   "cell_type": "markdown",
   "metadata": {},
   "source": [
    "a) MLPClassifier"
   ]
  },
  {
   "cell_type": "code",
   "execution_count": 73,
   "metadata": {},
   "outputs": [
    {
     "name": "stdout",
     "output_type": "stream",
     "text": [
      "Neural Network (MLP) performance:\n",
      "              precision    recall  f1-score   support\n",
      "\n",
      "           0       0.95      0.97      0.96       144\n",
      "           1       0.98      0.97      0.98       252\n",
      "\n",
      "    accuracy                           0.97       396\n",
      "   macro avg       0.96      0.97      0.97       396\n",
      "weighted avg       0.97      0.97      0.97       396\n",
      "\n",
      "\n"
     ]
    }
   ],
   "source": [
    "mlp = MLPClassifier()\n",
    "train_and_evaluate(mlp, 'Neural Network (MLP)')"
   ]
  },
  {
   "cell_type": "markdown",
   "metadata": {},
   "source": [
    "b) Logistic Regression"
   ]
  },
  {
   "cell_type": "code",
   "execution_count": 78,
   "metadata": {},
   "outputs": [
    {
     "name": "stdout",
     "output_type": "stream",
     "text": [
      "Logistic Regression performance:\n",
      "              precision    recall  f1-score   support\n",
      "\n",
      "           0       0.90      0.95      0.93       144\n",
      "           1       0.97      0.94      0.96       252\n",
      "\n",
      "    accuracy                           0.94       396\n",
      "   macro avg       0.94      0.95      0.94       396\n",
      "weighted avg       0.95      0.94      0.94       396\n",
      "\n",
      "\n"
     ]
    }
   ],
   "source": [
    "lr = LogisticRegression()\n",
    "train_and_evaluate(lr, 'Logistic Regression')"
   ]
  },
  {
   "cell_type": "markdown",
   "metadata": {},
   "source": [
    "c) Support Vector Machine (SVM)"
   ]
  },
  {
   "cell_type": "code",
   "execution_count": 79,
   "metadata": {},
   "outputs": [
    {
     "name": "stdout",
     "output_type": "stream",
     "text": [
      "SVM performance:\n",
      "              precision    recall  f1-score   support\n",
      "\n",
      "           0       0.87      0.98      0.92       144\n",
      "           1       0.99      0.91      0.95       252\n",
      "\n",
      "    accuracy                           0.94       396\n",
      "   macro avg       0.93      0.95      0.93       396\n",
      "weighted avg       0.94      0.94      0.94       396\n",
      "\n",
      "\n"
     ]
    }
   ],
   "source": [
    "svm = SVC()\n",
    "train_and_evaluate(svm, 'SVM')"
   ]
  },
  {
   "cell_type": "markdown",
   "metadata": {},
   "source": [
    "d) Bernoulli Naive Bayes"
   ]
  },
  {
   "cell_type": "code",
   "execution_count": 81,
   "metadata": {},
   "outputs": [
    {
     "name": "stdout",
     "output_type": "stream",
     "text": [
      "Bernoulli Naive Bayes performance:\n",
      "              precision    recall  f1-score   support\n",
      "\n",
      "           0       0.81      0.99      0.89       144\n",
      "           1       1.00      0.87      0.93       252\n",
      "\n",
      "    accuracy                           0.91       396\n",
      "   macro avg       0.90      0.93      0.91       396\n",
      "weighted avg       0.93      0.91      0.91       396\n",
      "\n",
      "\n"
     ]
    }
   ],
   "source": [
    "bnb = BernoulliNB()\n",
    "train_and_evaluate(bnb, 'Bernoulli Naive Bayes')"
   ]
  },
  {
   "cell_type": "markdown",
   "metadata": {},
   "source": [
    "6. Анализ обучения моделей с выборкой 80%/20% без настройки гиперпараметров"
   ]
  },
  {
   "cell_type": "markdown",
   "metadata": {},
   "source": [
    "a) MLPClassifier"
   ]
  },
  {
   "cell_type": "code",
   "execution_count": 15,
   "metadata": {},
   "outputs": [
    {
     "name": "stdout",
     "output_type": "stream",
     "text": [
      "Neural Network (MLP) performance:\n",
      "              precision    recall  f1-score   support\n",
      "\n",
      "           0       0.94      0.97      0.96       119\n",
      "           1       0.98      0.96      0.97       198\n",
      "\n",
      "    accuracy                           0.97       317\n",
      "   macro avg       0.96      0.97      0.97       317\n",
      "weighted avg       0.97      0.97      0.97       317\n",
      "\n",
      "\n"
     ]
    }
   ],
   "source": [
    "mlp = MLPClassifier()\n",
    "train_and_evaluate2(mlp, 'Neural Network (MLP)')"
   ]
  },
  {
   "cell_type": "markdown",
   "metadata": {},
   "source": [
    "b) Logistic Regression"
   ]
  },
  {
   "cell_type": "code",
   "execution_count": 16,
   "metadata": {},
   "outputs": [
    {
     "name": "stdout",
     "output_type": "stream",
     "text": [
      "Logistic Regression performance:\n",
      "              precision    recall  f1-score   support\n",
      "\n",
      "           0       0.91      0.96      0.93       119\n",
      "           1       0.97      0.94      0.96       198\n",
      "\n",
      "    accuracy                           0.95       317\n",
      "   macro avg       0.94      0.95      0.95       317\n",
      "weighted avg       0.95      0.95      0.95       317\n",
      "\n",
      "\n"
     ]
    }
   ],
   "source": [
    "lr = LogisticRegression()\n",
    "train_and_evaluate2(lr, 'Logistic Regression')"
   ]
  },
  {
   "cell_type": "markdown",
   "metadata": {},
   "source": [
    "c) Support Vector Machine (SVM)"
   ]
  },
  {
   "cell_type": "code",
   "execution_count": 17,
   "metadata": {},
   "outputs": [
    {
     "name": "stdout",
     "output_type": "stream",
     "text": [
      "SVM performance:\n",
      "              precision    recall  f1-score   support\n",
      "\n",
      "           0       0.88      0.98      0.93       119\n",
      "           1       0.99      0.92      0.95       198\n",
      "\n",
      "    accuracy                           0.94       317\n",
      "   macro avg       0.93      0.95      0.94       317\n",
      "weighted avg       0.95      0.94      0.94       317\n",
      "\n",
      "\n"
     ]
    }
   ],
   "source": [
    "svm = SVC()\n",
    "train_and_evaluate2(svm, 'SVM')"
   ]
  },
  {
   "cell_type": "markdown",
   "metadata": {},
   "source": [
    "d) Bernoulli Naive Bayes"
   ]
  },
  {
   "cell_type": "code",
   "execution_count": 18,
   "metadata": {},
   "outputs": [
    {
     "name": "stdout",
     "output_type": "stream",
     "text": [
      "Bernoulli Naive Bayes performance:\n",
      "              precision    recall  f1-score   support\n",
      "\n",
      "           0       0.81      0.99      0.89       119\n",
      "           1       0.99      0.86      0.92       198\n",
      "\n",
      "    accuracy                           0.91       317\n",
      "   macro avg       0.90      0.93      0.91       317\n",
      "weighted avg       0.92      0.91      0.91       317\n",
      "\n",
      "\n"
     ]
    }
   ],
   "source": [
    "bnb = BernoulliNB()\n",
    "train_and_evaluate2(bnb, 'Bernoulli Naive Bayes')"
   ]
  },
  {
   "cell_type": "markdown",
   "metadata": {},
   "source": [
    "7. Анализ обучения моделей с выборкой 75%/25% с настройкой гиперпараметров"
   ]
  },
  {
   "cell_type": "markdown",
   "metadata": {},
   "source": [
    "a) MLPClassifier"
   ]
  },
  {
   "cell_type": "code",
   "execution_count": 13,
   "metadata": {},
   "outputs": [
    {
     "name": "stdout",
     "output_type": "stream",
     "text": [
      "Neural Network (MLP) performance:\n",
      "              precision    recall  f1-score   support\n",
      "\n",
      "           0       0.95      0.94      0.95       144\n",
      "           1       0.97      0.97      0.97       252\n",
      "\n",
      "    accuracy                           0.96       396\n",
      "   macro avg       0.96      0.96      0.96       396\n",
      "weighted avg       0.96      0.96      0.96       396\n",
      "\n",
      "\n",
      "Best \"MLP\" parametres:{'alpha': 0.001, 'hidden_layer_sizes': (50, 100), 'learning_rate': 'constant', 'solver': 'lbfgs'}\n"
     ]
    }
   ],
   "source": [
    "mlp = GridSearchCV(MLPClassifier(early_stopping=True), MLP_grid, return_train_score=True)\n",
    "train_and_evaluate(mlp, 'Neural Network (MLP)')\n",
    "print(f'Best \"MLP\" parametres:{mlp.best_params_}')"
   ]
  },
  {
   "cell_type": "markdown",
   "metadata": {},
   "source": [
    "b) Logistic Regression"
   ]
  },
  {
   "cell_type": "code",
   "execution_count": null,
   "metadata": {},
   "outputs": [
    {
     "name": "stdout",
     "output_type": "stream",
     "text": [
      "Logistic Regression performance:\n",
      "              precision    recall  f1-score   support\n",
      "\n",
      "           0       0.97      0.97      0.97       144\n",
      "           1       0.98      0.98      0.98       252\n",
      "\n",
      "    accuracy                           0.98       396\n",
      "   macro avg       0.98      0.98      0.98       396\n",
      "weighted avg       0.98      0.98      0.98       396\n",
      "\n",
      "\n",
      "Best \"Linear Regression parametres: /n{'penalty': None, 'solver': 'saga', 'warm_start': True}\n"
     ]
    }
   ],
   "source": [
    "lr = GridSearchCV(LogisticRegression(max_iter=2000), LR_grid, return_train_score=True)\n",
    "train_and_evaluate(lr, 'Logistic Regression')\n",
    "print(f'Best \"Linear Regression\" parametres:{lr.best_params_}')"
   ]
  },
  {
   "cell_type": "markdown",
   "metadata": {},
   "source": [
    "c) Support Vector Machine (SVM)"
   ]
  },
  {
   "cell_type": "code",
   "execution_count": 93,
   "metadata": {},
   "outputs": [
    {
     "name": "stdout",
     "output_type": "stream",
     "text": [
      "SVM performance:\n",
      "              precision    recall  f1-score   support\n",
      "\n",
      "           0       0.97      0.98      0.97       144\n",
      "           1       0.99      0.98      0.98       252\n",
      "\n",
      "    accuracy                           0.98       396\n",
      "   macro avg       0.98      0.98      0.98       396\n",
      "weighted avg       0.98      0.98      0.98       396\n",
      "\n",
      "\n",
      "Best \"Support Vector Machine\" parametres:{'C': 100, 'decision_function_shape': 'ovo', 'gamma': 0.1, 'kernel': 'rbf'}\n"
     ]
    }
   ],
   "source": [
    "svm = GridSearchCV(SVC(), SVC_grid, return_train_score=True)\n",
    "train_and_evaluate(svm, 'SVM')\n",
    "print(f'Best \"Support Vector Machine\" parametres:{svm.best_params_}')"
   ]
  },
  {
   "cell_type": "markdown",
   "metadata": {},
   "source": [
    "d) Bernoulli Naive Bayes"
   ]
  },
  {
   "cell_type": "code",
   "execution_count": 94,
   "metadata": {},
   "outputs": [
    {
     "name": "stdout",
     "output_type": "stream",
     "text": [
      "Bernoulli Naive Bayes performance:\n",
      "              precision    recall  f1-score   support\n",
      "\n",
      "           0       0.93      0.94      0.93       144\n",
      "           1       0.97      0.96      0.96       252\n",
      "\n",
      "    accuracy                           0.95       396\n",
      "   macro avg       0.95      0.95      0.95       396\n",
      "weighted avg       0.95      0.95      0.95       396\n",
      "\n",
      "\n",
      "Best \"Bernaulli Naive Bayes\" parametres:{'alpha': 0.5, 'binarize': 0.1, 'fit_prior': True, 'force_alpha': True}\n"
     ]
    }
   ],
   "source": [
    "bnb = GridSearchCV(BernoulliNB(), NB_grid, return_train_score=True)\n",
    "train_and_evaluate(bnb, 'Bernoulli Naive Bayes')\n",
    "print(f'Best \"Bernaulli Naive Bayes\" parametres:{bnb.best_params_}')"
   ]
  },
  {
   "cell_type": "markdown",
   "metadata": {},
   "source": [
    "8. Анализ обучения моделей с выборкой 80%/20% с настройкой гиперпараметров"
   ]
  },
  {
   "cell_type": "markdown",
   "metadata": {},
   "source": [
    "a) MLPClassifier"
   ]
  },
  {
   "cell_type": "code",
   "execution_count": 14,
   "metadata": {},
   "outputs": [
    {
     "name": "stdout",
     "output_type": "stream",
     "text": [
      "Neural Network (MLP) performance:\n",
      "              precision    recall  f1-score   support\n",
      "\n",
      "           0       0.95      0.97      0.96       119\n",
      "           1       0.98      0.97      0.98       198\n",
      "\n",
      "    accuracy                           0.97       317\n",
      "   macro avg       0.97      0.97      0.97       317\n",
      "weighted avg       0.97      0.97      0.97       317\n",
      "\n",
      "\n",
      "Best \"MLP\" parametres:{'alpha': 0.001, 'hidden_layer_sizes': (50, 100), 'learning_rate': 'constant', 'solver': 'adam'}\n"
     ]
    }
   ],
   "source": [
    "mlp = GridSearchCV(MLPClassifier(), MLP_grid, return_train_score=True)\n",
    "train_and_evaluate2(mlp, 'Neural Network (MLP)')\n",
    "print(f'Best \"MLP\" parametres:{mlp.best_params_}')"
   ]
  },
  {
   "cell_type": "markdown",
   "metadata": {},
   "source": [
    "b) Logistic Regression"
   ]
  },
  {
   "cell_type": "code",
   "execution_count": 95,
   "metadata": {},
   "outputs": [
    {
     "name": "stdout",
     "output_type": "stream",
     "text": [
      "Logistic Regression performance:\n",
      "              precision    recall  f1-score   support\n",
      "\n",
      "           0       0.97      0.98      0.97       119\n",
      "           1       0.99      0.98      0.98       198\n",
      "\n",
      "    accuracy                           0.98       317\n",
      "   macro avg       0.98      0.98      0.98       317\n",
      "weighted avg       0.98      0.98      0.98       317\n",
      "\n",
      "\n",
      "Best \"Linear Regression\" parametres:{'penalty': None, 'solver': 'saga', 'warm_start': False}\n"
     ]
    }
   ],
   "source": [
    "lr = GridSearchCV(LogisticRegression(max_iter=2000), LR_grid, return_train_score=True)\n",
    "train_and_evaluate2(lr, 'Logistic Regression')\n",
    "print(f'Best \"Linear Regression\" parametres:{lr.best_params_}')"
   ]
  },
  {
   "cell_type": "markdown",
   "metadata": {},
   "source": [
    "c) Support Vector Machine (SVM)"
   ]
  },
  {
   "cell_type": "code",
   "execution_count": 96,
   "metadata": {},
   "outputs": [
    {
     "name": "stdout",
     "output_type": "stream",
     "text": [
      "SVM performance:\n",
      "              precision    recall  f1-score   support\n",
      "\n",
      "           0       0.97      0.98      0.97       119\n",
      "           1       0.99      0.98      0.98       198\n",
      "\n",
      "    accuracy                           0.98       317\n",
      "   macro avg       0.98      0.98      0.98       317\n",
      "weighted avg       0.98      0.98      0.98       317\n",
      "\n",
      "\n",
      "Best \"Support Vector Machine\" parametres:{'C': 10, 'decision_function_shape': 'ovo', 'gamma': 1, 'kernel': 'linear'}\n"
     ]
    }
   ],
   "source": [
    "svm = GridSearchCV(SVC(), SVC_grid, return_train_score=True)\n",
    "train_and_evaluate2(svm, 'SVM')\n",
    "print(f'Best \"Support Vector Machine\" parametres:{svm.best_params_}')"
   ]
  },
  {
   "cell_type": "markdown",
   "metadata": {},
   "source": [
    "d) Bernoulli Naive Bayes"
   ]
  },
  {
   "cell_type": "code",
   "execution_count": 97,
   "metadata": {},
   "outputs": [
    {
     "name": "stdout",
     "output_type": "stream",
     "text": [
      "Bernoulli Naive Bayes performance:\n",
      "              precision    recall  f1-score   support\n",
      "\n",
      "           0       0.85      0.99      0.91       119\n",
      "           1       0.99      0.89      0.94       198\n",
      "\n",
      "    accuracy                           0.93       317\n",
      "   macro avg       0.92      0.94      0.93       317\n",
      "weighted avg       0.94      0.93      0.93       317\n",
      "\n",
      "\n",
      "Best \"Bernaulli Naive Bayes\" parametres:{'alpha': 2, 'binarize': 0.001, 'fit_prior': False, 'force_alpha': True}\n"
     ]
    }
   ],
   "source": [
    "bnb = GridSearchCV(BernoulliNB(), NB_grid, return_train_score=True)\n",
    "train_and_evaluate2(bnb, 'Bernoulli Naive Bayes')\n",
    "print(f'Best \"Bernaulli Naive Bayes\" parametres:{bnb.best_params_}')"
   ]
  }
 ],
 "metadata": {
  "kernelspec": {
   "display_name": "artiv",
   "language": "python",
   "name": "artiv"
  },
  "language_info": {
   "codemirror_mode": {
    "name": "ipython",
    "version": 3
   },
   "file_extension": ".py",
   "mimetype": "text/x-python",
   "name": "python",
   "nbconvert_exporter": "python",
   "pygments_lexer": "ipython3",
   "version": "3.13.2"
  }
 },
 "nbformat": 4,
 "nbformat_minor": 2
}
